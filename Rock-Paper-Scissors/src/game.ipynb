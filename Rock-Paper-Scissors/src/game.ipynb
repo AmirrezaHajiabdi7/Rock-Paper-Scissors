{
 "cells": [
  {
   "cell_type": "markdown",
   "id": "9327a1ea",
   "metadata": {},
   "source": [
    "- def welcome\n",
    "- get_input_user\n",
    "- get_input_computer\n",
    "- user VS computr\n",
    "- winer \n",
    "- contune game?\n",
    "- end"
   ]
  },
  {
   "cell_type": "code",
   "execution_count": 1,
   "id": "bf9a57d2",
   "metadata": {},
   "outputs": [],
   "source": [
    "import random"
   ]
  },
  {
   "cell_type": "code",
   "execution_count": 3,
   "id": "926fd5c6",
   "metadata": {},
   "outputs": [
    {
     "name": "stdout",
     "output_type": "stream",
     "text": [
      "Welcome to the game reza\n",
      "Your choice : rock\n"
     ]
    },
    {
     "ename": "NameError",
     "evalue": "name 'random' is not defined",
     "output_type": "error",
     "traceback": [
      "\u001b[0;31m---------------------------------------------------------------------------\u001b[0m",
      "\u001b[0;31mNameError\u001b[0m                                 Traceback (most recent call last)",
      "Cell \u001b[0;32mIn[3], line 42\u001b[0m\n\u001b[1;32m     39\u001b[0m game \u001b[38;5;241m=\u001b[39m RockPaperScissors()\n\u001b[1;32m     41\u001b[0m \u001b[38;5;28;01mwhile\u001b[39;00m \u001b[38;5;28;01mTrue\u001b[39;00m:\n\u001b[0;32m---> 42\u001b[0m     \u001b[43mgame\u001b[49m\u001b[38;5;241;43m.\u001b[39;49m\u001b[43mstart_game\u001b[49m\u001b[43m(\u001b[49m\u001b[43m)\u001b[49m\n\u001b[1;32m     43\u001b[0m     wana_play \u001b[38;5;241m=\u001b[39m \u001b[38;5;28minput\u001b[39m (\u001b[38;5;124m\"\u001b[39m\u001b[38;5;124mDo you play again? (y/n)\u001b[39m\u001b[38;5;124m\"\u001b[39m)\n\u001b[1;32m     44\u001b[0m     \u001b[38;5;28;01mif\u001b[39;00m wana_play\u001b[38;5;241m.\u001b[39mlower() \u001b[38;5;241m==\u001b[39m \u001b[38;5;124m'\u001b[39m\u001b[38;5;124my\u001b[39m\u001b[38;5;124m'\u001b[39m :\n",
      "Cell \u001b[0;32mIn[3], line 35\u001b[0m, in \u001b[0;36mRockPaperScissors.start_game\u001b[0;34m(self)\u001b[0m\n\u001b[1;32m     33\u001b[0m \u001b[38;5;28;01mdef\u001b[39;00m\u001b[38;5;250m \u001b[39m\u001b[38;5;21mstart_game\u001b[39m (\u001b[38;5;28mself\u001b[39m):\n\u001b[1;32m     34\u001b[0m     \u001b[38;5;28mself\u001b[39m\u001b[38;5;241m.\u001b[39mget_user()\n\u001b[0;32m---> 35\u001b[0m     \u001b[38;5;28;43mself\u001b[39;49m\u001b[38;5;241;43m.\u001b[39;49m\u001b[43mget_computer\u001b[49m\u001b[43m(\u001b[49m\u001b[43m)\u001b[49m\n\u001b[1;32m     36\u001b[0m     \u001b[38;5;28mself\u001b[39m\u001b[38;5;241m.\u001b[39mwiner()\n",
      "Cell \u001b[0;32mIn[3], line 19\u001b[0m, in \u001b[0;36mRockPaperScissors.get_computer\u001b[0;34m(self)\u001b[0m\n\u001b[1;32m     17\u001b[0m \u001b[38;5;28;01mdef\u001b[39;00m\u001b[38;5;250m \u001b[39m\u001b[38;5;21mget_computer\u001b[39m (\u001b[38;5;28mself\u001b[39m):\n\u001b[1;32m     18\u001b[0m     \u001b[38;5;66;03m#get_computer_choice\u001b[39;00m\n\u001b[0;32m---> 19\u001b[0m     computer_choice \u001b[38;5;241m=\u001b[39m \u001b[43mrandom\u001b[49m\u001b[38;5;241m.\u001b[39mchoice(\u001b[38;5;28mself\u001b[39m\u001b[38;5;241m.\u001b[39mchoice)\n\u001b[1;32m     20\u001b[0m     \u001b[38;5;28mprint\u001b[39m (\u001b[38;5;124mf\u001b[39m\u001b[38;5;124m\"\u001b[39m\u001b[38;5;124mComputer Choice : \u001b[39m\u001b[38;5;132;01m{\u001b[39;00mcomputer_choice\u001b[38;5;132;01m}\u001b[39;00m\u001b[38;5;124m\"\u001b[39m)\n",
      "\u001b[0;31mNameError\u001b[0m: name 'random' is not defined"
     ]
    }
   ],
   "source": [
    "class RockPaperScissors :\n",
    "\n",
    "    def __init__(self):\n",
    "        self.name= input(\"hay  my friend , please enter your name :\")\n",
    "        self.choice = ['rock' , 'paper' , 'scissors']\n",
    "        print(f\"Welcome to the game {self.name}\")\n",
    "\n",
    "    def get_user (self):\n",
    "        #get_user_choice\n",
    "        user_choice = input (f\"Please enter your Choice {self.choice} \")\n",
    "        if user_choice.lower() in self.choice :\n",
    "            print (f\"Your choice : {user_choice}\")\n",
    "        else :\n",
    "            print (f\"invalid! please chiose from : {self.choice}\")\n",
    "            return self.get_user()\n",
    "\n",
    "    def get_computer (self):\n",
    "        #get_computer_choice\n",
    "        computer_choice = random.choice(self.choice)\n",
    "        print (f\"Computer Choice : {computer_choice}\")\n",
    "    \n",
    "    def winer (self) :\n",
    "        if (self.get_user == 'rock' and self.get_computer == 'scissors' ) or \\\n",
    "        (self.get_user == 'scissors' and self.get_computer =='paper') or \\\n",
    "        (self.get_user == 'paper' and self.get_computer =='rock'):\n",
    "            print (\"Yesssssssssssssssss.you win\")\n",
    "        elif self.get_computer == self.get_user :\n",
    "            print (\"The game was tied\")\n",
    "        else :\n",
    "            print(\"Oh.computer win!\")\n",
    "    \n",
    "\n",
    "    def start_game (self):\n",
    "        self.get_user()\n",
    "        self.get_computer()\n",
    "        self.winer()\n",
    "\n",
    "if __name__ == '__main__':\n",
    "    game = RockPaperScissors()\n",
    "\n",
    "    while True:\n",
    "        game.start_game()\n",
    "        wana_play = input (\"Do you play again? (y/n)\")\n",
    "        if wana_play.lower() == 'y' :\n",
    "            game.start_game\n",
    "        else :\n",
    "            print (\"goodbay my friend\")\n",
    "            break"
   ]
  },
  {
   "cell_type": "code",
   "execution_count": null,
   "id": "25795d19",
   "metadata": {},
   "outputs": [],
   "source": []
  },
  {
   "cell_type": "code",
   "execution_count": null,
   "id": "9415bf7a",
   "metadata": {},
   "outputs": [],
   "source": []
  }
 ],
 "metadata": {
  "kernelspec": {
   "display_name": "python-project",
   "language": "python",
   "name": "python3"
  },
  "language_info": {
   "codemirror_mode": {
    "name": "ipython",
    "version": 3
   },
   "file_extension": ".py",
   "mimetype": "text/x-python",
   "name": "python",
   "nbconvert_exporter": "python",
   "pygments_lexer": "ipython3",
   "version": "3.12.11"
  }
 },
 "nbformat": 4,
 "nbformat_minor": 5
}
